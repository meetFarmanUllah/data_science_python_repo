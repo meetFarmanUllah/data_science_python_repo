{
 "cells": [
  {
   "cell_type": "markdown",
   "metadata": {},
   "source": [
    "# Python ka chilla with baba Ammar\n",
    "## How to use jupyter notebook\n",
    "\n",
    "## Basics of python\n",
    "### 1) First python program"
   ]
  },
  {
   "cell_type": "code",
   "execution_count": 2,
   "metadata": {},
   "outputs": [
    {
     "name": "stdout",
     "output_type": "stream",
     "text": [
      "Hello world!\n",
      "Learning python with baba Ammar\n"
     ]
    }
   ],
   "source": [
    "print(\"Hello world!\")\n",
    "print(\"Learning python with baba Ammar\")"
   ]
  },
  {
   "cell_type": "markdown",
   "metadata": {},
   "source": [
    "### 2) operatiors"
   ]
  },
  {
   "cell_type": "code",
   "execution_count": 20,
   "metadata": {},
   "outputs": [
    {
     "name": "stdout",
     "output_type": "stream",
     "text": [
      "Addition 2+3 =  5\n",
      "Sbutraction 7-2 =  5\n",
      "Multiplication 2*2 =  4\n",
      "Division 10/4 =  2.5\n",
      "Division 10//4 =  2\n",
      "Exponent 2^8 =  256\n",
      "Reminder 6/4 =  2\n",
      "\n",
      "Complex equation\n",
      "equation 2**3/3*4+(2-6) =  6.666666666666666\n"
     ]
    }
   ],
   "source": [
    "print(\"Addition 2+3 = \", 2+3)\n",
    "print(\"Sbutraction 7-2 = \",7-2)\n",
    "print(\"Multiplication 2*2 = \", 2*2)\n",
    "print(\"Division 10/4 = \", 10/4)\n",
    "print(\"Division 10//4 = \", 10//4)\n",
    "print(\"Exponent 2^8 = \",  2**8)\n",
    "print(\"Reminder 6/4 = \", 6%4)\n",
    "\n",
    "print(\"\\nComplex equation\")\n",
    "print(\"equation 2**3/3*4+(2-6) = \", 2**3/3*4+(2-6))\n"
   ]
  },
  {
   "cell_type": "markdown",
   "metadata": {},
   "source": [
    "**PEMDAS** Paranthesis, Exponent, Multiplication, Division, Addition, Subtraction\n",
    "\n",
    "**For Left to right evoluation**"
   ]
  },
  {
   "cell_type": "markdown",
   "metadata": {},
   "source": [
    "### 3) Python Strings"
   ]
  },
  {
   "cell_type": "code",
   "execution_count": 22,
   "metadata": {},
   "outputs": [
    {
     "name": "stdout",
     "output_type": "stream",
     "text": [
      "Learning Python with baba G!\n",
      "Double quotaion String\n",
      "Triple quote string\n",
      "Brother's car!\n"
     ]
    }
   ],
   "source": [
    "# can write string in three ways Single quote, double and triple quote\n",
    "print('Learning Python with baba G!')\n",
    "print(\"Double quotaion String\")\n",
    "print(\"\"\"Triple quote string\"\"\")\n",
    "\n",
    "# singel quote with in double quote\n",
    "print(\"Brother's car!\")"
   ]
  },
  {
   "cell_type": "markdown",
   "metadata": {},
   "source": [
    "### 4) Comments\n",
    "Comments are  description about the code for later analysis and improve readability"
   ]
  },
  {
   "cell_type": "code",
   "execution_count": 26,
   "metadata": {},
   "outputs": [
    {
     "name": "stdout",
     "output_type": "stream",
     "text": [
      "We are here with baba Ammar\n",
      "Community learning with Baba G!\n"
     ]
    }
   ],
   "source": [
    "# This line will not be render by python and considered as a comment starting with '#''\n",
    "print(\"We are here with baba Ammar\")\n",
    "print(\"Community learning with Baba G!\")\n",
    "\n",
    "# For commenting out select whole code and press (Ctrl+/)"
   ]
  },
  {
   "cell_type": "markdown",
   "metadata": {},
   "source": [
    "### 5) Variables\n",
    "-Varibles are the containers or objects  containing values.\n",
    "\n",
    "**Rules For naming variables**\n",
    "\n",
    "- No spaces are allowed in variable name\n",
    "- Variable name start with string, underscore or numbers.\n",
    "- Variable name cannot be initiated with a number.\n",
    "- Do not use reserved keywords.\n",
    "- Variable name short and descriptive\n",
    "- Variable names are case sentive\n",
    "    - lower case will be considered lower and higher case will considered higher\n",
    "    - always use lower case for somlicity\n",
    "\n"
   ]
  },
  {
   "cell_type": "code",
   "execution_count": 3,
   "metadata": {},
   "outputs": [
    {
     "name": "stdout",
     "output_type": "stream",
     "text": [
      "8\n",
      "<class 'int'>\n",
      "integer:  10\n",
      "\n",
      "\n",
      "string:  jolly\n",
      "<class 'str'>\n",
      "\n",
      "height in float:  179.3\n",
      "<class 'float'>\n",
      "\n",
      "Are you male?  True\n",
      "<class 'bool'>\n"
     ]
    }
   ],
   "source": [
    "# integer variable\n",
    "number = 8\n",
    "print(number)\n",
    "\n",
    "#checking type\n",
    "\n",
    "print(type(number))\n",
    "\n",
    "#If we assign another value to the number variable it will overide the previous one\n",
    "number = 10\n",
    "print(\"integer: \", number)\n",
    "\n",
    "#this is because python control flows from top to bottom\n",
    "print('\\n')\n",
    "\n",
    "## String variable\n",
    "name = \"jolly\"\n",
    "print(\"string: \", name)\n",
    "print(type(name))\n",
    "\n",
    "##Float variable\n",
    "\n",
    "height = 179.3\n",
    "print(\"\\nheight in float: \", height)\n",
    "print(type(height))\n",
    "\n",
    "##boolean variable\n",
    "\n",
    "male = True\n",
    "print(\"\\nAre you male? \", male)\n",
    "print(type(male))"
   ]
  },
  {
   "cell_type": "markdown",
   "metadata": {},
   "source": [
    "### 6) Input variables"
   ]
  },
  {
   "cell_type": "code",
   "execution_count": 9,
   "metadata": {},
   "outputs": [
    {
     "name": "stdout",
     "output_type": "stream",
     "text": [
      "Enter your name: farman\n",
      "Enter your field of interest: Data Science\n",
      "You have bright future in  Data Science   farman !\n",
      "Enter your course: Python\n",
      "Python : Dr Ammar\n"
     ]
    }
   ],
   "source": [
    "#one way\n",
    "name = input(\"Enter your name: \")\n",
    "field = input(\"Enter your field of interest: \")\n",
    "\n",
    "print(\"You have bright future in \",field, \" \", name,\"!\")\n",
    "\n",
    "#second way\n",
    "course = input(\"Enter your course: \")\n",
    "instructor = \"Dr Ammar\"\n",
    "print(course, \":\", instructor)\n",
    "\n"
   ]
  },
  {
   "cell_type": "markdown",
   "metadata": {},
   "source": [
    "---"
   ]
  },
  {
   "cell_type": "markdown",
   "metadata": {},
   "source": [
    "### 7) Conditional and logicals\n",
    "- equality ==\n",
    "- less than <\n",
    "-greater than >\n",
    "-less than and equal to <=\n",
    "-greater than and equal to >=\n",
    "-not equal !="
   ]
  },
  {
   "cell_type": "code",
   "execution_count": 14,
   "metadata": {},
   "outputs": [
    {
     "name": "stdout",
     "output_type": "stream",
     "text": [
      "4 == 4:  True\n",
      "3 > 6:  False\n",
      "4 != 5:  True\n",
      "8 >= 1 True\n",
      "1 <= 1 True\n",
      "8 < 5:  False\n",
      "Enter team members count: 12\n",
      "You can join the competetion:  True\n"
     ]
    }
   ],
   "source": [
    "print(\"4 == 4: \", 4==4)\n",
    "print(\"3 > 6: \", 3>6)\n",
    "print(\"4 != 5: \", 4!=5)\n",
    "print(\"8 >= 1\", 8>=1)\n",
    "print(\"1 <= 1\", 1<=1)\n",
    "print(\"8 < 5: \", 8<5)\n",
    "\n",
    "\n",
    "team_members = int(input(\"Enter team members count: \"))\n",
    "print(\"You can join the competetion: \", team_members >= 2)"
   ]
  },
  {
   "cell_type": "markdown",
   "metadata": {},
   "source": [
    "**Explanation of above**\n",
    "\n",
    "- By default intput function take the value as string\n",
    "- for numeric comparision value must be convert to integer\n",
    "- is conversion is called 'typecasting'\n",
    "- To convert string class into the integer class 'int()' function is used\n",
    "\n",
    "**Note**\n",
    "Type conversion will be disscussed in below chapter"
   ]
  },
  {
   "cell_type": "markdown",
   "metadata": {},
   "source": [
    "---"
   ]
  },
  {
   "cell_type": "markdown",
   "metadata": {},
   "source": [
    "### 8) Type conversion\n",
    "#### Types\n",
    "- **Implicit type conversion** python does this conversion on its own lower order type will be converted to higher order\n",
    "    - which will see in examples\n",
    "- **Explicit type coversion** in this type conversion is done by programmer explicitly.(seen in above chapter)"
   ]
  },
  {
   "cell_type": "code",
   "execution_count": 29,
   "metadata": {},
   "outputs": [
    {
     "name": "stdout",
     "output_type": "stream",
     "text": [
      "4  type is:  <class 'int'>\n",
      "7.3 type is  <class 'float'>\n",
      "int and float are added and the type is:  <class 'float'>\n",
      "Enter you'er marks: 90\n",
      "Your'er pass?  True\n"
     ]
    }
   ],
   "source": [
    "var_int = 4\n",
    "var_float = 7.3\n",
    "print(var_int, \" type is: \", type(var_int))\n",
    "print(var_float, 'type is ', type(var_float))\n",
    "\n",
    "#now see how python does implicit conversion\n",
    "\n",
    "var_convert = var_int + var_float\n",
    "print(\"int and float are added and the type is: \" , type(var_convert))\n",
    "\n",
    "## Float has higher order so python converted the resultent variable/value to the float\n",
    "\n",
    "# Explicit conversion\n",
    "\n",
    "marks = input(\"Enter you'er marks: \")\n",
    "\n",
    "#we will convert marks variable which is in string to integer to do numeric comparision\n",
    "print(\"Your'er pass? \", int(marks)>50)"
   ]
  },
  {
   "cell_type": "markdown",
   "metadata": {},
   "source": [
    "---"
   ]
  },
  {
   "cell_type": "markdown",
   "metadata": {},
   "source": [
    "### 9) if if_else"
   ]
  },
  {
   "cell_type": "code",
   "execution_count": 36,
   "metadata": {},
   "outputs": [
    {
     "name": "stdout",
     "output_type": "stream",
     "text": [
      "Enter the horse power of the car: 1002\n",
      "Horse power is to much for the race, not allowed!\n"
     ]
    }
   ],
   "source": [
    "#an condition is checked before executing the code\n",
    "#else mean is condition is not meet else code will be executed\n",
    "\n",
    "# try to build an car race recomendation application \n",
    "\n",
    "hp = int(input(\"Enter the horse power of the car: \"))\n",
    "\n",
    "\n",
    "if hp >= 200 and hp<=1000:\n",
    "    print(hp, \"hp cars allowed are for the race\")\n",
    "elif hp >1000:\n",
    "    print(\"Horse power is to much for the race, not allowed!\")\n",
    "else:\n",
    "    print(\"Sorry try next time!\")"
   ]
  },
  {
   "cell_type": "markdown",
   "metadata": {},
   "source": [
    "---"
   ]
  },
  {
   "cell_type": "markdown",
   "metadata": {},
   "source": [
    "### 10) Functions\n",
    "- Function is created with 'def' key word following by name and paranthesis\n",
    "- Fucntion can accept or return any value\n",
    "- after paranthesis and full colon code will be indented to show the body of the funtion"
   ]
  },
  {
   "cell_type": "code",
   "execution_count": 42,
   "metadata": {},
   "outputs": [
    {
     "name": "stdout",
     "output_type": "stream",
     "text": [
      "Enter an integer: 78\n",
      "converted to float:  78.0\n"
     ]
    }
   ],
   "source": [
    "# we will create a funtion which will accept a number as integer and then explicitly convert it into float\n",
    "# and return it\n",
    "\n",
    "### Function ##\n",
    "def type_cover(a):\n",
    "    return float(a)\n",
    "\n",
    "## Taking input form user\n",
    "number = int(input(\"Enter an integer: \"))\n",
    "\n",
    "##Function call in print statement##\n",
    "\n",
    "print(\"converted to float: \", type_cover(number))"
   ]
  },
  {
   "cell_type": "markdown",
   "metadata": {},
   "source": [
    "### 11) Loops\n",
    "we will see to kind of loops\n",
    "- while loop\n",
    "- for loop"
   ]
  },
  {
   "cell_type": "code",
   "execution_count": 45,
   "metadata": {},
   "outputs": [
    {
     "name": "stdout",
     "output_type": "stream",
     "text": [
      "Enter a number between 1 to 10 to see the magic: 6\n",
      "We have learned python!\n",
      "We have learned python!\n",
      "We have learned python!\n",
      "We have learned python!\n",
      "We have learned python!\n",
      "We have learned python!\n"
     ]
    }
   ],
   "source": [
    "number = int(input(\"Enter a number between 1 to 10 to see the magic: \"))\n",
    "\n",
    "if number < 1 or number > 10:\n",
    "    print(\"Wrong entry! try next time\")\n",
    "else:\n",
    "    ##while loop\n",
    "    while number >= 1:\n",
    "        print(\"We have learned python!\")\n",
    "        number = number -1\n",
    "        "
   ]
  },
  {
   "cell_type": "code",
   "execution_count": 50,
   "metadata": {},
   "outputs": [
    {
     "name": "stdout",
     "output_type": "stream",
     "text": [
      "Enter 1 for months name 2 for days names: 2\n",
      "mon\n",
      "tue\n",
      "wed\n",
      "thr\n",
      "fri\n",
      "sat\n",
      "sun\n"
     ]
    }
   ],
   "source": [
    "months = ['jan', 'feb', 'mar', 'apr', 'may', 'jun','jul', 'aug', 'sep','oct', 'nov', 'dec']\n",
    "days = ['mon', 'tue', 'wed', 'thr', 'fri', 'sat', 'sun']\n",
    "\n",
    "check = int(input(\"Enter 1 for months name 2 for days names: \"))\n",
    "\n",
    "if check ==1:\n",
    "    \n",
    "    ##for loop first way\n",
    "    for i in months:\n",
    "        print(i)\n",
    "elif check ==2:\n",
    "    \n",
    "    ##for loop second way\n",
    "    for i in range(len(days)):\n",
    "        print(days[i])\n",
    "else:\n",
    "    print(\"you entered wrong number!\")"
   ]
  },
  {
   "cell_type": "markdown",
   "metadata": {},
   "source": [
    "### 12) Importing Libraries"
   ]
  },
  {
   "cell_type": "code",
   "execution_count": 54,
   "metadata": {},
   "outputs": [
    {
     "name": "stdout",
     "output_type": "stream",
     "text": [
      "Value of pi is:  3.141592653589793\n"
     ]
    }
   ],
   "source": [
    "# importing a library called math\n",
    "import math\n",
    "\n",
    "#using bult-in function 'pi' from math library\n",
    "print(\"Value of pi is: \", math.pi)"
   ]
  },
  {
   "cell_type": "code",
   "execution_count": 56,
   "metadata": {},
   "outputs": [
    {
     "name": "stdout",
     "output_type": "stream",
     "text": [
      "square root calculator\n",
      "\n",
      "Enter number: 9\n",
      "Square root of 9 is:  3.0\n"
     ]
    }
   ],
   "source": [
    "print(\"square root calculator\\n\")\n",
    "number = int(input(\"Enter number: \"))\n",
    "\n",
    "## using 'sqrt' function of math library\n",
    "print(\"Square root of\", number, \"is: \", math.sqrt(number))"
   ]
  },
  {
   "cell_type": "markdown",
   "metadata": {},
   "source": [
    "---"
   ]
  },
  {
   "cell_type": "code",
   "execution_count": null,
   "metadata": {},
   "outputs": [],
   "source": []
  }
 ],
 "metadata": {
  "kernelspec": {
   "display_name": "Python 3",
   "language": "python",
   "name": "python3"
  },
  "language_info": {
   "codemirror_mode": {
    "name": "ipython",
    "version": 3
   },
   "file_extension": ".py",
   "mimetype": "text/x-python",
   "name": "python",
   "nbconvert_exporter": "python",
   "pygments_lexer": "ipython3",
   "version": "3.8.5"
  }
 },
 "nbformat": 4,
 "nbformat_minor": 4
}
